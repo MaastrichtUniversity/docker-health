{
 "cells": [
  {
   "cell_type": "code",
   "execution_count": null,
   "id": "6ccc0a1d",
   "metadata": {
    "_cell_guid": "b1076dfc-b9ad-4769-8c92-a6c4dae69d19",
    "_uuid": "8f2839f25d086af736a60e9eeb907d3b93b6e0e5",
    "papermill": {
     "duration": 0.104399,
     "end_time": "2021-12-01T17:09:12.493247",
     "exception": false,
     "start_time": "2021-12-01T17:09:12.388848",
     "status": "completed"
    },
    "tags": []
   },
   "outputs": [],
   "source": [
    "https://www.kaggle.com/code/ammarkhan071/synthea-analysis\n",
    "\n",
    "# This Python 3 environment comes with many helpful analytics libraries installed\n",
    "# It is defined by the kaggle/python Docker image: https://github.com/kaggle/docker-python\n",
    "# For example, here's several helpful packages to load\n",
    "\n",
    "import numpy as np # linear algebra\n",
    "import pandas as pd # data processing, CSV file I/O (e.g. pd.read_csv)\n",
    "\n",
    "# Input data files are available in the read-only \"../input/\" directory\n",
    "# For example, running this (by clicking run or pressing Shift+Enter) will list all files under the input directory\n",
    "\n",
    "import os\n",
    "for dirname, _, filenames in os.walk('../data'):\n",
    "    for filename in filenames:\n",
    "        print(os.path.join(dirname, filename))\n",
    "\n",
    "# You can write up to 20GB to the current directory (/kaggle/working/) that gets preserved as output when you create a version using \"Save & Run All\" \n",
    "# You can also write temporary files to /kaggle/temp/, but they won't be saved outside of the current session"
   ]
  },
  {
   "cell_type": "markdown",
   "id": "ad1ba0ef",
   "metadata": {
    "papermill": {
     "duration": 0.073701,
     "end_time": "2021-12-01T17:09:12.642499",
     "exception": false,
     "start_time": "2021-12-01T17:09:12.568798",
     "status": "completed"
    },
    "tags": []
   },
   "source": [
    "Importing the data in allergies.csv"
   ]
  },
  {
   "cell_type": "code",
   "execution_count": null,
   "id": "bbebca9b",
   "metadata": {
    "papermill": {
     "duration": 0.10959,
     "end_time": "2021-12-01T17:09:12.939763",
     "exception": false,
     "start_time": "2021-12-01T17:09:12.830173",
     "status": "completed"
    },
    "tags": []
   },
   "outputs": [],
   "source": [
    "allergies = pd.read_csv(\"../data/allergies.csv\")\n",
    "allergies.head()"
   ]
  },
  {
   "cell_type": "markdown",
   "id": "b5949f14",
   "metadata": {
    "papermill": {
     "duration": 0.073318,
     "end_time": "2021-12-01T17:09:13.250317",
     "exception": false,
     "start_time": "2021-12-01T17:09:13.176999",
     "status": "completed"
    },
    "tags": []
   },
   "source": [
    "lets see the shape of the data"
   ]
  },
  {
   "cell_type": "code",
   "execution_count": null,
   "id": "b0fb9e94",
   "metadata": {
    "papermill": {
     "duration": 0.080816,
     "end_time": "2021-12-01T17:09:13.404608",
     "exception": false,
     "start_time": "2021-12-01T17:09:13.323792",
     "status": "completed"
    },
    "tags": []
   },
   "outputs": [],
   "source": [
    "def isCured(x):\n",
    "    if type(x) != str:\n",
    "        return 0\n",
    "    else:\n",
    "        return 1"
   ]
  },
  {
   "cell_type": "code",
   "execution_count": null,
   "id": "9e0e0ec8",
   "metadata": {
    "papermill": {
     "duration": 0.091138,
     "end_time": "2021-12-01T17:09:13.569800",
     "exception": false,
     "start_time": "2021-12-01T17:09:13.478662",
     "status": "completed"
    },
    "tags": []
   },
   "outputs": [],
   "source": [
    "allergies[\"isCured\"] = allergies.STOP.apply(isCured)\n",
    "allergies.head()"
   ]
  },
  {
   "cell_type": "code",
   "execution_count": null,
   "id": "5cbad5cf",
   "metadata": {
    "papermill": {
     "duration": 0.08298,
     "end_time": "2021-12-01T17:09:13.727024",
     "exception": false,
     "start_time": "2021-12-01T17:09:13.644044",
     "status": "completed"
    },
    "tags": []
   },
   "outputs": [],
   "source": [
    "allergies.shape"
   ]
  },
  {
   "cell_type": "markdown",
   "id": "c7920295",
   "metadata": {
    "papermill": {
     "duration": 0.075811,
     "end_time": "2021-12-01T17:09:13.879135",
     "exception": false,
     "start_time": "2021-12-01T17:09:13.803324",
     "status": "completed"
    },
    "tags": []
   },
   "source": [
    "so it has 597 rows and 6 columns"
   ]
  },
  {
   "cell_type": "markdown",
   "id": "7f9c960e",
   "metadata": {
    "papermill": {
     "duration": 0.075783,
     "end_time": "2021-12-01T17:09:14.032566",
     "exception": false,
     "start_time": "2021-12-01T17:09:13.956783",
     "status": "completed"
    },
    "tags": []
   },
   "source": [
    "Lets see how many distinct kind of allergies exists"
   ]
  },
  {
   "cell_type": "code",
   "execution_count": null,
   "id": "a68a3b8a",
   "metadata": {
    "papermill": {
     "duration": 0.089149,
     "end_time": "2021-12-01T17:09:14.196721",
     "exception": false,
     "start_time": "2021-12-01T17:09:14.107572",
     "status": "completed"
    },
    "tags": []
   },
   "outputs": [],
   "source": [
    "allergies.DESCRIPTION.nunique(),allergies.DESCRIPTION.count(),allergies.CODE.nunique(),allergies.CODE.count()"
   ]
  },
  {
   "cell_type": "markdown",
   "id": "27ab2204",
   "metadata": {
    "papermill": {
     "duration": 0.076074,
     "end_time": "2021-12-01T17:09:14.348790",
     "exception": false,
     "start_time": "2021-12-01T17:09:14.272716",
     "status": "completed"
    },
    "tags": []
   },
   "source": [
    "22 distinct allergies exist throughout the data. Lets see which are the most common ones and which are the least common ones."
   ]
  },
  {
   "cell_type": "code",
   "execution_count": null,
   "id": "47c6594f",
   "metadata": {
    "papermill": {
     "duration": 0.104343,
     "end_time": "2021-12-01T17:09:14.528385",
     "exception": false,
     "start_time": "2021-12-01T17:09:14.424042",
     "status": "completed"
    },
    "tags": []
   },
   "outputs": [],
   "source": [
    "allergy_group = allergies.groupby([\"DESCRIPTION\"]).agg({\"DESCRIPTION\":\"count\",\"isCured\":\"sum\"})\n",
    "allergy_group = allergy_group.rename(columns = {\"DESCRIPTION\":\"COUNT\"})\n",
    "allergy_group = allergy_group.reset_index().sort_values(by = [\"COUNT\"],ascending = False)\n",
    "allergy_group[\"isNotCured\"] = allergy_group[\"COUNT\"] - allergy_group[\"isCured\"]\n",
    "allergy_group[\"RecoveryRate\"] = np.round(100*allergy_group[\"isCured\"]/allergy_group[\"COUNT\"],0)\n",
    "allergy_group.head()"
   ]
  },
  {
   "cell_type": "code",
   "execution_count": null,
   "id": "f568f91b",
   "metadata": {
    "papermill": {
     "duration": 0.577634,
     "end_time": "2021-12-01T17:09:15.180740",
     "exception": false,
     "start_time": "2021-12-01T17:09:14.603106",
     "status": "completed"
    },
    "tags": []
   },
   "outputs": [],
   "source": [
    "%matplotlib inline\n",
    "import matplotlib.pyplot as plt\n",
    "\n",
    "plt.figure(figsize = (20,10))\n",
    "plt.barh(allergy_group.DESCRIPTION,allergy_group.isCured,color = \"orange\")\n",
    "plt.barh(allergy_group.DESCRIPTION,allergy_group.isNotCured,left = allergy_group.isCured)\n",
    "plt.legend([\"No. of Patients Cured\",\"No. of Patients yet to be cured\"])\n",
    "plt.title(\"Number of patients across different allergies\")\n",
    "plt.xlabel(\"Count of Patients\")\n",
    "for i in range(len(allergy_group.DESCRIPTION)):\n",
    "    plt.annotate(str(allergy_group.RecoveryRate.iloc[i])+\" %\",(allergy_group.COUNT.iloc[i]+0.5,i-0.12))\n",
    "\n",
    "plt.show()"
   ]
  },
  {
   "cell_type": "markdown",
   "id": "d331f66d",
   "metadata": {
    "papermill": {
     "duration": 0.076378,
     "end_time": "2021-12-01T17:09:15.336383",
     "exception": false,
     "start_time": "2021-12-01T17:09:15.260005",
     "status": "completed"
    },
    "tags": []
   },
   "source": [
    "From the above graph its clear that **Allergy to Mould** and **Dander allergy** are the most common ones. Whereas **soya** and **Dairy product** allergy are the least common ones.\n",
    "Also allergies to peanuts,fish,nut, venom and Shellfish seems to have no treatment as there hasn't been a single patient recovered from these. Our Doctors have a very high success rate with egg allergies. A record 30% of the patients with these allergies have been cured till date."
   ]
  },
  {
   "cell_type": "markdown",
   "id": "925bcab0",
   "metadata": {
    "papermill": {
     "duration": 0.076107,
     "end_time": "2021-12-01T17:09:15.488960",
     "exception": false,
     "start_time": "2021-12-01T17:09:15.412853",
     "status": "completed"
    },
    "tags": []
   },
   "source": [
    "Lets see cured patients and how much time does it take to cure different allergies"
   ]
  },
  {
   "cell_type": "code",
   "execution_count": null,
   "id": "b70bf86a",
   "metadata": {
    "papermill": {
     "duration": 0.083211,
     "end_time": "2021-12-01T17:09:15.648328",
     "exception": false,
     "start_time": "2021-12-01T17:09:15.565117",
     "status": "completed"
    },
    "tags": []
   },
   "outputs": [],
   "source": [
    "from datetime import datetime\n",
    "def todatetime(x):\n",
    "    return datetime.strptime(x,\"%Y-%m-%d\")"
   ]
  },
  {
   "cell_type": "code",
   "execution_count": null,
   "id": "d9e88cf4",
   "metadata": {
    "papermill": {
     "duration": 0.105292,
     "end_time": "2021-12-01T17:09:15.830401",
     "exception": false,
     "start_time": "2021-12-01T17:09:15.725109",
     "status": "completed"
    },
    "tags": []
   },
   "outputs": [],
   "source": [
    "cured_allergies = allergies[~(allergies[\"STOP\"].isna())]\n",
    "cured_allergies.START = cured_allergies.START.apply(todatetime)\n",
    "cured_allergies.STOP = cured_allergies.STOP.apply(todatetime)\n",
    "#cured_allergies.RecoveryYear = cured_allergies.STOP.year - cured_allergies.START.year\n",
    "cured_allergies.head()"
   ]
  },
  {
   "cell_type": "code",
   "execution_count": null,
   "id": "584ce9a7",
   "metadata": {
    "papermill": {
     "duration": 0.10491,
     "end_time": "2021-12-01T17:09:16.013733",
     "exception": false,
     "start_time": "2021-12-01T17:09:15.908823",
     "status": "completed"
    },
    "tags": []
   },
   "outputs": [],
   "source": [
    "array = []\n",
    "for i in range(len(cured_allergies)):\n",
    "    array.append(cured_allergies.STOP.iloc[i].year - cured_allergies.START.iloc[i].year)\n",
    "    \n",
    "cured_allergies[\"RecoveryYears\"] = array\n",
    "\n",
    "cured_allergies_group = cured_allergies.groupby([\"DESCRIPTION\"]).agg({\"RecoveryYears\":\"mean\"}).sort_values(by = [\"RecoveryYears\"],ascending = False).reset_index()\n",
    "cured_allergies_group.head()"
   ]
  },
  {
   "cell_type": "code",
   "execution_count": null,
   "id": "3ae0bfe5",
   "metadata": {
    "papermill": {
     "duration": 0.328819,
     "end_time": "2021-12-01T17:09:16.423327",
     "exception": false,
     "start_time": "2021-12-01T17:09:16.094508",
     "status": "completed"
    },
    "tags": []
   },
   "outputs": [],
   "source": [
    "plt.figure(figsize = (10,5))\n",
    "plt.barh(cured_allergies_group.DESCRIPTION,cured_allergies_group.RecoveryYears)\n",
    "plt.title(\"Recovery time across different alergies\")\n",
    "plt.show()"
   ]
  },
  {
   "cell_type": "markdown",
   "id": "9f688142",
   "metadata": {
    "papermill": {
     "duration": 0.079791,
     "end_time": "2021-12-01T17:09:16.583157",
     "exception": false,
     "start_time": "2021-12-01T17:09:16.503366",
     "status": "completed"
    },
    "tags": []
   },
   "source": [
    "From above chart it can be concluded that all allergies take roughly around 15 - 18 years of time to be recovered."
   ]
  },
  {
   "cell_type": "code",
   "execution_count": null,
   "id": "703389c9",
   "metadata": {
    "papermill": {
     "duration": 0.103469,
     "end_time": "2021-12-01T17:09:16.766776",
     "exception": false,
     "start_time": "2021-12-01T17:09:16.663307",
     "status": "completed"
    },
    "tags": []
   },
   "outputs": [],
   "source": [
    "cured_allergies"
   ]
  },
  {
   "cell_type": "markdown",
   "id": "13263010",
   "metadata": {
    "papermill": {
     "duration": 0.079942,
     "end_time": "2021-12-01T17:09:16.928368",
     "exception": false,
     "start_time": "2021-12-01T17:09:16.848426",
     "status": "completed"
    },
    "tags": []
   },
   "source": [
    "Lets import the data related to encounters"
   ]
  },
  {
   "cell_type": "code",
   "execution_count": null,
   "id": "f0b56c4b",
   "metadata": {
    "papermill": {
     "duration": 0.586515,
     "end_time": "2021-12-01T17:09:17.596492",
     "exception": false,
     "start_time": "2021-12-01T17:09:17.009977",
     "status": "completed"
    },
    "tags": []
   },
   "outputs": [],
   "source": [
    "encounters = pd.read_csv(\"../data/encounters.csv\")\n",
    "encounters.head()"
   ]
  },
  {
   "cell_type": "markdown",
   "id": "bec435b2",
   "metadata": {
    "papermill": {
     "duration": 0.081339,
     "end_time": "2021-12-01T17:09:17.759162",
     "exception": false,
     "start_time": "2021-12-01T17:09:17.677823",
     "status": "completed"
    },
    "tags": []
   },
   "source": []
  },
  {
   "cell_type": "markdown",
   "id": "bb9f2d91",
   "metadata": {
    "execution": {
     "iopub.execute_input": "2021-11-28T16:24:21.171424Z",
     "iopub.status.busy": "2021-11-28T16:24:21.170129Z",
     "iopub.status.idle": "2021-11-28T16:24:21.17666Z",
     "shell.execute_reply": "2021-11-28T16:24:21.175608Z",
     "shell.execute_reply.started": "2021-11-28T16:24:21.171385Z"
    },
    "papermill": {
     "duration": 0.081058,
     "end_time": "2021-12-01T17:09:17.921660",
     "exception": false,
     "start_time": "2021-12-01T17:09:17.840602",
     "status": "completed"
    },
    "tags": []
   },
   "source": [
    "lets see the providers,top payers giving the hospital maximum revenue."
   ]
  },
  {
   "cell_type": "code",
   "execution_count": null,
   "id": "e65e367d",
   "metadata": {
    "papermill": {
     "duration": 0.121729,
     "end_time": "2021-12-01T17:09:18.124400",
     "exception": false,
     "start_time": "2021-12-01T17:09:18.002671",
     "status": "completed"
    },
    "tags": []
   },
   "outputs": [],
   "source": [
    "providers_grouped = encounters.groupby([\"PROVIDER\"]).agg({\"TOTAL_CLAIM_COST\":\"sum\",\"PROVIDER\":\"count\"}).sort_values(by = \"TOTAL_CLAIM_COST\",ascending = False).rename(columns = {\"PROVIDER\":\"NoPatientSeen\"}).reset_index()\n",
    "providers_grouped"
   ]
  },
  {
   "cell_type": "code",
   "execution_count": null,
   "id": "cc01a3c7",
   "metadata": {
    "papermill": {
     "duration": 0.144126,
     "end_time": "2021-12-01T17:09:18.355423",
     "exception": false,
     "start_time": "2021-12-01T17:09:18.211297",
     "status": "completed"
    },
    "tags": []
   },
   "outputs": [],
   "source": [
    "providers = pd.read_csv(\"../data/providers.csv\")\n",
    "providers"
   ]
  },
  {
   "cell_type": "code",
   "execution_count": null,
   "id": "d2378aa8",
   "metadata": {
    "papermill": {
     "duration": 0.121331,
     "end_time": "2021-12-01T17:09:18.563401",
     "exception": false,
     "start_time": "2021-12-01T17:09:18.442070",
     "status": "completed"
    },
    "tags": []
   },
   "outputs": [],
   "source": [
    "tt = providers.merge(providers_grouped,left_on = \"Id\",right_on = \"PROVIDER\",how = \"inner\").sort_values(by = \"TOTAL_CLAIM_COST\",ascending = False)\n",
    "tt"
   ]
  },
  {
   "cell_type": "code",
   "execution_count": null,
   "id": "54a42129",
   "metadata": {
    "papermill": {
     "duration": 0.108668,
     "end_time": "2021-12-01T17:09:18.756038",
     "exception": false,
     "start_time": "2021-12-01T17:09:18.647370",
     "status": "completed"
    },
    "tags": []
   },
   "outputs": [],
   "source": [
    "tt[\"cum_of_total_cost\"] = tt.TOTAL_CLAIM_COST.cumsum()\n",
    "tt[tt[\"cum_of_total_cost\"] < (0.2 * tt.TOTAL_CLAIM_COST.sum())]"
   ]
  },
  {
   "cell_type": "code",
   "execution_count": null,
   "id": "068832c9",
   "metadata": {
    "papermill": {
     "duration": 0.332114,
     "end_time": "2021-12-01T17:09:19.172435",
     "exception": false,
     "start_time": "2021-12-01T17:09:18.840321",
     "status": "completed"
    },
    "tags": []
   },
   "outputs": [],
   "source": [
    "plt.figure(figsize = (15,5))\n",
    "plt.plot(np.arange(1,len(tt) + 1),tt.TOTAL_CLAIM_COST.cumsum())\n",
    "#plt.plot(tt.TOTAL_CLAIM_COST.sum() * 0.1)\n",
    "plt.axhline(y=tt.TOTAL_CLAIM_COST.sum() * 0.8,color = \"black\",label = \"80% of revenue below this line\",linestyle='dashed')\n",
    "plt.axvline(x=219,color = \"red\",label = \"219 doctors to the left of this line\",linestyle='dashed')\n",
    "plt.title(\"Cumulative revenue generated from doctors\")\n",
    "plt.legend()\n",
    "plt.show()"
   ]
  },
  {
   "cell_type": "code",
   "execution_count": null,
   "id": "59605953",
   "metadata": {
    "papermill": {
     "duration": 2.390513,
     "end_time": "2021-12-01T17:09:21.648127",
     "exception": false,
     "start_time": "2021-12-01T17:09:19.257614",
     "status": "completed"
    },
    "tags": []
   },
   "outputs": [],
   "source": [
    "import squarify\n",
    "plt.figure(figsize = (20,15))\n",
    "squarify.plot(tt[\"TOTAL_CLAIM_COST\"].iloc[0:219],label = tt[\"NAME\"].iloc[0:219])\n",
    "plt.show()"
   ]
  },
  {
   "cell_type": "markdown",
   "id": "51e4d134",
   "metadata": {
    "papermill": {
     "duration": 0.095476,
     "end_time": "2021-12-01T17:09:21.839893",
     "exception": false,
     "start_time": "2021-12-01T17:09:21.744417",
     "status": "completed"
    },
    "tags": []
   },
   "source": [
    "The above picture shows the contribution of top 219 doctors to total revenue. Cleary Gaynell Strich, Gertrudis Schraden and Vern Polowski are the top doctors with most contribution."
   ]
  },
  {
   "cell_type": "code",
   "execution_count": null,
   "id": "0be9b242",
   "metadata": {
    "papermill": {
     "duration": 0.107831,
     "end_time": "2021-12-01T17:09:22.043060",
     "exception": false,
     "start_time": "2021-12-01T17:09:21.935229",
     "status": "completed"
    },
    "tags": []
   },
   "outputs": [],
   "source": [
    "tt.ORGANIZATION.nunique()"
   ]
  },
  {
   "cell_type": "code",
   "execution_count": null,
   "id": "28192ca3",
   "metadata": {
    "papermill": {
     "duration": 0.299572,
     "end_time": "2021-12-01T17:09:22.439511",
     "exception": false,
     "start_time": "2021-12-01T17:09:22.139939",
     "status": "completed"
    },
    "tags": []
   },
   "outputs": [],
   "source": [
    "plt.figure()\n",
    "plt.barh(tt.NAME.head(10),tt.TOTAL_CLAIM_COST.head(10))\n",
    "plt.show()"
   ]
  },
  {
   "cell_type": "markdown",
   "id": "91d1df7b",
   "metadata": {
    "papermill": {
     "duration": 0.097437,
     "end_time": "2021-12-01T17:09:22.634815",
     "exception": false,
     "start_time": "2021-12-01T17:09:22.537378",
     "status": "completed"
    },
    "tags": []
   },
   "source": [
    "The above diagram shows the top doctors with most revenue "
   ]
  },
  {
   "cell_type": "code",
   "execution_count": null,
   "id": "e3228f0c",
   "metadata": {
    "papermill": {
     "duration": 0.112143,
     "end_time": "2021-12-01T17:09:22.847670",
     "exception": false,
     "start_time": "2021-12-01T17:09:22.735527",
     "status": "completed"
    },
    "tags": []
   },
   "outputs": [],
   "source": [
    "tt1 = tt.groupby(\"CITY\").agg({\"TOTAL_CLAIM_COST\":\"sum\"}).sort_values(by = [\"TOTAL_CLAIM_COST\"],ascending = False)\n",
    "tt1[\"cum_sum\"] = tt1.TOTAL_CLAIM_COST.cumsum()"
   ]
  },
  {
   "cell_type": "code",
   "execution_count": null,
   "id": "c2abdbec",
   "metadata": {
    "papermill": {
     "duration": 0.370756,
     "end_time": "2021-12-01T17:09:23.316241",
     "exception": false,
     "start_time": "2021-12-01T17:09:22.945485",
     "status": "completed"
    },
    "tags": []
   },
   "outputs": [],
   "source": [
    "plt.figure(figsize = (15,5))\n",
    "plt.plot(np.arange(1,len(tt1) + 1),tt1.TOTAL_CLAIM_COST.cumsum())\n",
    "#plt.plot(tt.TOTAL_CLAIM_COST.sum() * 0.1)\n",
    "plt.axhline(y=tt1.TOTAL_CLAIM_COST.sum() * 0.8,color = \"black\",label = \"80% of revenue below this line\",linestyle='dashed')\n",
    "plt.axvline(x=75,color = \"red\",label = \"75 cities to the left of this line\",linestyle='dashed')\n",
    "plt.title(\"Cumulative revenue generated from different cities\")\n",
    "plt.legend()\n",
    "plt.show()"
   ]
  },
  {
   "cell_type": "markdown",
   "id": "31a2f137",
   "metadata": {
    "papermill": {
     "duration": 0.097727,
     "end_time": "2021-12-01T17:09:23.513551",
     "exception": false,
     "start_time": "2021-12-01T17:09:23.415824",
     "status": "completed"
    },
    "tags": []
   },
   "source": [
    "Hospital has business around 319 cities but 80% of revenue is generated from 75 cities."
   ]
  },
  {
   "cell_type": "code",
   "execution_count": null,
   "id": "8b6765b9",
   "metadata": {
    "papermill": {
     "duration": 0.857256,
     "end_time": "2021-12-01T17:09:24.468286",
     "exception": false,
     "start_time": "2021-12-01T17:09:23.611030",
     "status": "completed"
    },
    "tags": []
   },
   "outputs": [],
   "source": [
    "\n",
    "plt.figure(figsize = (20,15))\n",
    "squarify.plot(tt[\"TOTAL_CLAIM_COST\"].iloc[0:75],label = tt[\"CITY\"].iloc[0:75])\n",
    "plt.show()"
   ]
  },
  {
   "cell_type": "markdown",
   "id": "ef0f78eb",
   "metadata": {
    "papermill": {
     "duration": 0.101098,
     "end_time": "2021-12-01T17:09:24.670502",
     "exception": false,
     "start_time": "2021-12-01T17:09:24.569404",
     "status": "completed"
    },
    "tags": []
   },
   "source": [
    "Jamaica Plain, WestCester,Melrose are the cities where the doctors with most revenue are based in"
   ]
  },
  {
   "cell_type": "code",
   "execution_count": null,
   "id": "30ab1b74",
   "metadata": {
    "papermill": {
     "duration": 0.119057,
     "end_time": "2021-12-01T17:09:24.891998",
     "exception": false,
     "start_time": "2021-12-01T17:09:24.772941",
     "status": "completed"
    },
    "tags": []
   },
   "outputs": [],
   "source": [
    "tt_organisation = tt.groupby([\"ORGANIZATION\"]).agg({\"TOTAL_CLAIM_COST\":\"sum\"}).sort_values(by = [\"TOTAL_CLAIM_COST\"],ascending = False)\n",
    "tt_organisation"
   ]
  },
  {
   "cell_type": "code",
   "execution_count": null,
   "id": "40ea5306",
   "metadata": {
    "papermill": {
     "duration": 0.112309,
     "end_time": "2021-12-01T17:09:25.106162",
     "exception": false,
     "start_time": "2021-12-01T17:09:24.993853",
     "status": "completed"
    },
    "tags": []
   },
   "outputs": [],
   "source": [
    "tt.ORGANIZATION.nunique()"
   ]
  },
  {
   "cell_type": "code",
   "execution_count": null,
   "id": "9a0d7d03",
   "metadata": {
    "papermill": {
     "duration": 2.546551,
     "end_time": "2021-12-01T17:09:27.756085",
     "exception": false,
     "start_time": "2021-12-01T17:09:25.209534",
     "status": "completed"
    },
    "tags": []
   },
   "outputs": [],
   "source": [
    "import plotly.express as px\n",
    "import pandas as pd\n",
    "\n",
    "df = providers[[\"LAT\",\"LON\"]]\n",
    "\n",
    "fig = px.scatter_geo(df,lat='LAT',lon='LON')\n",
    "fig.update_layout(title = 'World map', title_x=0.5)\n",
    "fig.show()"
   ]
  },
  {
   "cell_type": "markdown",
   "id": "4a74197b",
   "metadata": {
    "papermill": {
     "duration": 0.106881,
     "end_time": "2021-12-01T17:09:27.969011",
     "exception": false,
     "start_time": "2021-12-01T17:09:27.862130",
     "status": "completed"
    },
    "tags": []
   },
   "source": [
    "All the doctors as seen above are from single state. Zoom in the graph for more details"
   ]
  },
  {
   "cell_type": "code",
   "execution_count": null,
   "id": "eb5154d6",
   "metadata": {
    "papermill": {
     "duration": 0.160834,
     "end_time": "2021-12-01T17:09:28.237159",
     "exception": false,
     "start_time": "2021-12-01T17:09:28.076325",
     "status": "completed"
    },
    "tags": []
   },
   "outputs": [],
   "source": [
    "patients = pd.read_csv(\"../data/patients.csv\")\n",
    "patients.head()"
   ]
  },
  {
   "cell_type": "code",
   "execution_count": null,
   "id": "60d77c6f",
   "metadata": {
    "papermill": {
     "duration": 0.175328,
     "end_time": "2021-12-01T17:09:28.518623",
     "exception": false,
     "start_time": "2021-12-01T17:09:28.343295",
     "status": "completed"
    },
    "tags": []
   },
   "outputs": [],
   "source": [
    "df = patients[[\"LAT\",\"LON\"]]\n",
    "\n",
    "fig = px.scatter_geo(df,lat='LAT',lon='LON')\n",
    "fig.update_layout(title = 'World map', title_x=0.5)\n",
    "fig.show()"
   ]
  },
  {
   "cell_type": "markdown",
   "id": "092ae8d6",
   "metadata": {
    "papermill": {
     "duration": 0.105374,
     "end_time": "2021-12-01T17:09:28.730088",
     "exception": false,
     "start_time": "2021-12-01T17:09:28.624714",
     "status": "completed"
    },
    "tags": []
   },
   "source": [
    "As seen above we are only attracting patients from Massachusetts. So either the service that we provide is not good enough to attract patients from other state or the other state have good healthcare structure so they dont need to travel across states."
   ]
  },
  {
   "cell_type": "code",
   "execution_count": null,
   "id": "8fdd2f58",
   "metadata": {
    "papermill": {
     "duration": 0.346718,
     "end_time": "2021-12-01T17:09:29.184427",
     "exception": false,
     "start_time": "2021-12-01T17:09:28.837709",
     "status": "completed"
    },
    "tags": []
   },
   "outputs": [],
   "source": [
    "procedures = pd.read_csv(\"data/procedures.csv\")\n",
    "procedures.head()"
   ]
  },
  {
   "cell_type": "code",
   "execution_count": null,
   "id": "099a2330",
   "metadata": {
    "papermill": {
     "duration": 0.119504,
     "end_time": "2021-12-01T17:09:29.411934",
     "exception": false,
     "start_time": "2021-12-01T17:09:29.292430",
     "status": "completed"
    },
    "tags": []
   },
   "outputs": [],
   "source": [
    "procedures.DESCRIPTION.nunique()"
   ]
  },
  {
   "cell_type": "code",
   "execution_count": null,
   "id": "3a131e7c",
   "metadata": {
    "papermill": {
     "duration": 0.194111,
     "end_time": "2021-12-01T17:09:29.713789",
     "exception": false,
     "start_time": "2021-12-01T17:09:29.519678",
     "status": "completed"
    },
    "tags": []
   },
   "outputs": [],
   "source": [
    "proc_enc = procedures.merge(encounters,left_on = \"ENCOUNTER\",right_on = \"Id\")\n",
    "proc_enc.head()"
   ]
  },
  {
   "cell_type": "code",
   "execution_count": null,
   "id": "c784ea37",
   "metadata": {
    "papermill": {
     "duration": 0.122622,
     "end_time": "2021-12-01T17:09:29.945052",
     "exception": false,
     "start_time": "2021-12-01T17:09:29.822430",
     "status": "completed"
    },
    "tags": []
   },
   "outputs": [],
   "source": [
    "proc_enc.DESCRIPTION_y.nunique()"
   ]
  },
  {
   "cell_type": "code",
   "execution_count": null,
   "id": "9498fad0",
   "metadata": {
    "papermill": {
     "duration": 0.139259,
     "end_time": "2021-12-01T17:09:30.196328",
     "exception": false,
     "start_time": "2021-12-01T17:09:30.057069",
     "status": "completed"
    },
    "tags": []
   },
   "outputs": [],
   "source": [
    "proc_enc.groupby(\"DESCRIPTION_y\").agg({\"TOTAL_CLAIM_COST\":\"sum\",\"ENCOUNTER\":\"count\"}).sort_values(by = [\"TOTAL_CLAIM_COST\"],ascending = False)"
   ]
  },
  {
   "cell_type": "markdown",
   "id": "bf1136a5",
   "metadata": {
    "papermill": {
     "duration": 0.11002,
     "end_time": "2021-12-01T17:09:30.416891",
     "exception": false,
     "start_time": "2021-12-01T17:09:30.306871",
     "status": "completed"
    },
    "tags": []
   },
   "source": [
    "The above table shows the revenue generated as well as count of encounter across different purpose of visits"
   ]
  },
  {
   "cell_type": "code",
   "execution_count": null,
   "id": "a89ced29",
   "metadata": {
    "papermill": {
     "duration": 0.136932,
     "end_time": "2021-12-01T17:09:30.665009",
     "exception": false,
     "start_time": "2021-12-01T17:09:30.528077",
     "status": "completed"
    },
    "tags": []
   },
   "outputs": [],
   "source": [
    "proc_enc.groupby(\"DESCRIPTION_x\").agg({\"TOTAL_CLAIM_COST\":\"sum\",\"ENCOUNTER\":\"count\"}).sort_values(by = [\"TOTAL_CLAIM_COST\"],ascending = False)"
   ]
  },
  {
   "cell_type": "markdown",
   "id": "b2bd7763",
   "metadata": {
    "papermill": {
     "duration": 0.109442,
     "end_time": "2021-12-01T17:09:30.886701",
     "exception": false,
     "start_time": "2021-12-01T17:09:30.777259",
     "status": "completed"
    },
    "tags": []
   },
   "source": [
    "The above table shows the revenue generated as well as count of encounter across different procedures"
   ]
  },
  {
   "cell_type": "markdown",
   "id": "14b46434",
   "metadata": {
    "execution": {
     "iopub.execute_input": "2021-11-30T19:26:54.483447Z",
     "iopub.status.busy": "2021-11-30T19:26:54.482769Z",
     "iopub.status.idle": "2021-11-30T19:26:54.489399Z",
     "shell.execute_reply": "2021-11-30T19:26:54.488553Z",
     "shell.execute_reply.started": "2021-11-30T19:26:54.48341Z"
    },
    "papermill": {
     "duration": 0.111342,
     "end_time": "2021-12-01T17:09:31.110372",
     "exception": false,
     "start_time": "2021-12-01T17:09:30.999030",
     "status": "completed"
    },
    "tags": []
   },
   "source": [
    "The above table shows the revenue generated as well as count of encounter across different purpose of visits"
   ]
  },
  {
   "cell_type": "code",
   "execution_count": null,
   "id": "9f33acfc",
   "metadata": {
    "papermill": {
     "duration": 0.178037,
     "end_time": "2021-12-01T17:09:31.398877",
     "exception": false,
     "start_time": "2021-12-01T17:09:31.220840",
     "status": "completed"
    },
    "tags": []
   },
   "outputs": [],
   "source": [
    "conditions = pd.read_csv(\"../data/conditions.csv\")\n",
    "conditions.head()"
   ]
  },
  {
   "cell_type": "code",
   "execution_count": null,
   "id": "55074fa6",
   "metadata": {
    "papermill": {
     "duration": 0.122367,
     "end_time": "2021-12-01T17:09:31.632786",
     "exception": false,
     "start_time": "2021-12-01T17:09:31.510419",
     "status": "completed"
    },
    "tags": []
   },
   "outputs": [],
   "source": [
    "conditions.DESCRIPTION.nunique()"
   ]
  },
  {
   "cell_type": "code",
   "execution_count": null,
   "id": "680ba2f2",
   "metadata": {
    "papermill": {
     "duration": 0.133054,
     "end_time": "2021-12-01T17:09:31.878170",
     "exception": false,
     "start_time": "2021-12-01T17:09:31.745116",
     "status": "completed"
    },
    "tags": []
   },
   "outputs": [],
   "source": [
    "encounters.head()"
   ]
  },
  {
   "cell_type": "code",
   "execution_count": null,
   "id": "fdf1cdbf",
   "metadata": {
    "papermill": {
     "duration": 0.121233,
     "end_time": "2021-12-01T17:09:32.110993",
     "exception": false,
     "start_time": "2021-12-01T17:09:31.989760",
     "status": "completed"
    },
    "tags": []
   },
   "outputs": [],
   "source": [
    "type(encounters.START.iloc[0])"
   ]
  },
  {
   "cell_type": "code",
   "execution_count": null,
   "id": "f8d8eb94",
   "metadata": {
    "papermill": {
     "duration": 0.112432,
     "end_time": "2021-12-01T17:09:32.336998",
     "exception": false,
     "start_time": "2021-12-01T17:09:32.224566",
     "status": "completed"
    },
    "tags": []
   },
   "outputs": [],
   "source": []
  },
  {
   "cell_type": "code",
   "execution_count": null,
   "id": "8cb1c73d",
   "metadata": {
    "papermill": {
     "duration": 0.118773,
     "end_time": "2021-12-01T17:09:32.569281",
     "exception": false,
     "start_time": "2021-12-01T17:09:32.450508",
     "status": "completed"
    },
    "tags": []
   },
   "outputs": [],
   "source": [
    "def todatetime1(x):\n",
    "    x = x[0:10]\n",
    "    return datetime.strptime(x,\"%Y-%m-%d\")\n",
    "\n"
   ]
  },
  {
   "cell_type": "code",
   "execution_count": null,
   "id": "d24ce233",
   "metadata": {
    "papermill": {
     "duration": 1.469421,
     "end_time": "2021-12-01T17:09:34.151651",
     "exception": false,
     "start_time": "2021-12-01T17:09:32.682230",
     "status": "completed"
    },
    "tags": []
   },
   "outputs": [],
   "source": [
    "encounters.START = encounters.START.apply(todatetime1)\n",
    "encounters.STOP = encounters.STOP.apply(todatetime1)\n",
    "type(encounters.START.iloc[0])"
   ]
  },
  {
   "cell_type": "code",
   "execution_count": null,
   "id": "820257dd",
   "metadata": {
    "papermill": {
     "duration": 0.138116,
     "end_time": "2021-12-01T17:09:34.404232",
     "exception": false,
     "start_time": "2021-12-01T17:09:34.266116",
     "status": "completed"
    },
    "tags": []
   },
   "outputs": [],
   "source": [
    "encounters = encounters.sort_values(by = [\"START\"])"
   ]
  },
  {
   "cell_type": "code",
   "execution_count": null,
   "id": "4a7f3d99",
   "metadata": {
    "papermill": {
     "duration": 0.12828,
     "end_time": "2021-12-01T17:09:34.646137",
     "exception": false,
     "start_time": "2021-12-01T17:09:34.517857",
     "status": "completed"
    },
    "tags": []
   },
   "outputs": [],
   "source": [
    "encounters.shape,encounters.PATIENT.nunique()"
   ]
  },
  {
   "cell_type": "markdown",
   "id": "dd525b18",
   "metadata": {
    "papermill": {
     "duration": 0.124637,
     "end_time": "2021-12-01T17:09:34.895717",
     "exception": false,
     "start_time": "2021-12-01T17:09:34.771080",
     "status": "completed"
    },
    "tags": []
   },
   "source": [
    "As seen above there are total around 53k encounters but only 1171 patients have visited the hospital in the given window. This implies that majority of the patients return to hospital after first visit. Aquiring new patients is difficult for the hospital but keeping an old patient is something we are good at."
   ]
  },
  {
   "cell_type": "code",
   "execution_count": null,
   "id": "fc40d0ae",
   "metadata": {
    "papermill": {
     "duration": 0.113095,
     "end_time": "2021-12-01T17:09:35.122789",
     "exception": false,
     "start_time": "2021-12-01T17:09:35.009694",
     "status": "completed"
    },
    "tags": []
   },
   "outputs": [],
   "source": []
  },
  {
   "cell_type": "code",
   "execution_count": null,
   "id": "4ad4b189",
   "metadata": {
    "papermill": {
     "duration": 0.123044,
     "end_time": "2021-12-01T17:09:35.358598",
     "exception": false,
     "start_time": "2021-12-01T17:09:35.235554",
     "status": "completed"
    },
    "tags": []
   },
   "outputs": [],
   "source": [
    "array_of_patients_visited = []\n",
    "i = 0\n",
    "def old_or_new(x):\n",
    "    #patient_id = encounters.PATIENT.iloc[i]\n",
    "    if x in array_of_patients_visited:\n",
    "        #i += 1\n",
    "        return 1\n",
    "    else:\n",
    "        array_of_patients_visited.append(x)\n",
    "        #i += 1\n",
    "        return 0"
   ]
  },
  {
   "cell_type": "code",
   "execution_count": null,
   "id": "513dfc8b",
   "metadata": {
    "papermill": {
     "duration": 0.664368,
     "end_time": "2021-12-01T17:09:36.137123",
     "exception": false,
     "start_time": "2021-12-01T17:09:35.472755",
     "status": "completed"
    },
    "tags": []
   },
   "outputs": [],
   "source": [
    "encounters[\"isExistingPatient\"] = encounters.PATIENT.apply(old_or_new)"
   ]
  },
  {
   "cell_type": "markdown",
   "id": "72da42b3",
   "metadata": {
    "papermill": {
     "duration": 0.112924,
     "end_time": "2021-12-01T17:09:36.364487",
     "exception": false,
     "start_time": "2021-12-01T17:09:36.251563",
     "status": "completed"
    },
    "tags": []
   },
   "source": []
  },
  {
   "cell_type": "code",
   "execution_count": null,
   "id": "9bb7015a",
   "metadata": {
    "papermill": {
     "duration": 0.136248,
     "end_time": "2021-12-01T17:09:36.615582",
     "exception": false,
     "start_time": "2021-12-01T17:09:36.479334",
     "status": "completed"
    },
    "tags": []
   },
   "outputs": [],
   "source": [
    "encounters.head()"
   ]
  },
  {
   "cell_type": "code",
   "execution_count": null,
   "id": "c3732d0f",
   "metadata": {
    "papermill": {
     "duration": 0.171273,
     "end_time": "2021-12-01T17:09:36.900041",
     "exception": false,
     "start_time": "2021-12-01T17:09:36.728768",
     "status": "completed"
    },
    "tags": []
   },
   "outputs": [],
   "source": [
    "def isNewPatient(x):\n",
    "    if x == 0:\n",
    "        return 1\n",
    "    else:\n",
    "        return 0\n",
    "\n",
    "encounters[\"isNewPatient\"] = encounters.isExistingPatient.apply(isNewPatient)\n",
    "encounters.head()"
   ]
  },
  {
   "cell_type": "code",
   "execution_count": null,
   "id": "2bf82c59",
   "metadata": {
    "papermill": {
     "duration": 0.138057,
     "end_time": "2021-12-01T17:09:37.152584",
     "exception": false,
     "start_time": "2021-12-01T17:09:37.014527",
     "status": "completed"
    },
    "tags": []
   },
   "outputs": [],
   "source": [
    "on = encounters.groupby([\"START\"]).agg({\"isExistingPatient\":\"sum\",\"isNewPatient\":\"sum\"}).reset_index()\n",
    "on"
   ]
  },
  {
   "cell_type": "code",
   "execution_count": null,
   "id": "1e566e9f",
   "metadata": {
    "papermill": {
     "duration": 0.474202,
     "end_time": "2021-12-01T17:09:37.741876",
     "exception": false,
     "start_time": "2021-12-01T17:09:37.267674",
     "status": "completed"
    },
    "tags": []
   },
   "outputs": [],
   "source": [
    "plt.figure(figsize = (15,8))\n",
    "plt.plot(on[[\"START\"]],on[[\"isExistingPatient\"]],label = \"Existing\")\n",
    "plt.plot(on[[\"START\"]],on[[\"isNewPatient\"]],label = \"New\")\n",
    "plt.legend()\n",
    "#plt.legend()\n",
    "plt.show()"
   ]
  },
  {
   "cell_type": "markdown",
   "id": "530ae6f8",
   "metadata": {
    "papermill": {
     "duration": 0.115671,
     "end_time": "2021-12-01T17:09:37.975290",
     "exception": false,
     "start_time": "2021-12-01T17:09:37.859619",
     "status": "completed"
    },
    "tags": []
   },
   "source": [
    "In the above chart each point represents no of patients in a day. Surprisingly we are very good at keeping the existing patients. Most of the pateints visiting have already visited us in the past. On a given day the we have seen maximum 20 existing patients and 3 new patients."
   ]
  },
  {
   "cell_type": "code",
   "execution_count": null,
   "id": "77214d65",
   "metadata": {
    "papermill": {
     "duration": 0.118125,
     "end_time": "2021-12-01T17:09:38.211772",
     "exception": false,
     "start_time": "2021-12-01T17:09:38.093647",
     "status": "completed"
    },
    "tags": []
   },
   "outputs": [],
   "source": []
  },
  {
   "cell_type": "code",
   "execution_count": null,
   "id": "d2e057f5",
   "metadata": {
    "papermill": {
     "duration": 0.272759,
     "end_time": "2021-12-01T17:09:38.601834",
     "exception": false,
     "start_time": "2021-12-01T17:09:38.329075",
     "status": "completed"
    },
    "tags": []
   },
   "outputs": [],
   "source": [
    "def year_month(x):\n",
    "    return x.strftime(\"%Y-%m\")\n",
    "\n",
    "on[\"Year\"] = pd.DatetimeIndex(on[\"START\"]).year\n",
    "on[\"Month\"] = pd.DatetimeIndex(on[\"START\"]).month\n",
    "on[\"YearMonth\"] = on.START.apply(year_month)\n",
    "on.head()"
   ]
  },
  {
   "cell_type": "code",
   "execution_count": null,
   "id": "7f9875ea",
   "metadata": {
    "papermill": {
     "duration": 0.138209,
     "end_time": "2021-12-01T17:09:38.858849",
     "exception": false,
     "start_time": "2021-12-01T17:09:38.720640",
     "status": "completed"
    },
    "tags": []
   },
   "outputs": [],
   "source": [
    "on_yearMonth = on.groupby([\"YearMonth\"]).agg({\"isExistingPatient\":\"sum\",\"isNewPatient\":\"sum\"}).reset_index()\n",
    "on_yearMonth"
   ]
  },
  {
   "cell_type": "code",
   "execution_count": null,
   "id": "d6c0ee3c",
   "metadata": {
    "papermill": {
     "duration": 0.587805,
     "end_time": "2021-12-01T17:09:39.565379",
     "exception": false,
     "start_time": "2021-12-01T17:09:38.977574",
     "status": "completed"
    },
    "tags": []
   },
   "outputs": [],
   "source": [
    "import matplotlib.dates as mdates\n",
    "plt.figure(figsize = (15,8))\n",
    "plt.plot(on_yearMonth[\"YearMonth\"],on_yearMonth[\"isExistingPatient\"],label = \"Existing Patient\")\n",
    "plt.plot(on_yearMonth[\"YearMonth\"],on_yearMonth[\"isNewPatient\"],label = \"New Patient\")\n",
    "\n",
    "plt.gca().xaxis.set_major_formatter(mdates.DateFormatter(\"%Y\"))\n",
    "plt.gca().xaxis.set_major_locator(mdates.DayLocator(interval = 365))\n",
    "plt.legend()\n",
    "plt.show()"
   ]
  },
  {
   "cell_type": "code",
   "execution_count": null,
   "id": "c4dd0b22",
   "metadata": {
    "papermill": {
     "duration": 0.134441,
     "end_time": "2021-12-01T17:09:39.819128",
     "exception": false,
     "start_time": "2021-12-01T17:09:39.684687",
     "status": "completed"
    },
    "tags": []
   },
   "outputs": [],
   "source": [
    "on_clean = on[on[\"Year\"] > 1980]\n",
    "on_clean.head()"
   ]
  },
  {
   "cell_type": "markdown",
   "id": "25c29a34",
   "metadata": {
    "papermill": {
     "duration": 0.121031,
     "end_time": "2021-12-01T17:09:40.060567",
     "exception": false,
     "start_time": "2021-12-01T17:09:39.939536",
     "status": "completed"
    },
    "tags": []
   },
   "source": [
    "Lets look at the data 1980 onwards as there are no gap in dates after 1980"
   ]
  },
  {
   "cell_type": "code",
   "execution_count": null,
   "id": "4614619b",
   "metadata": {
    "papermill": {
     "duration": 0.493599,
     "end_time": "2021-12-01T17:09:40.675419",
     "exception": false,
     "start_time": "2021-12-01T17:09:40.181820",
     "status": "completed"
    },
    "tags": []
   },
   "outputs": [],
   "source": [
    "plt.figure(figsize = (15,8))\n",
    "plt.plot(on_clean[[\"START\"]],on_clean[[\"isExistingPatient\"]],label = \"Existing\")\n",
    "plt.plot(on_clean[[\"START\"]],on_clean[[\"isNewPatient\"]],label = \"New\")\n",
    "plt.legend()\n",
    "#plt.legend()\n",
    "plt.show()"
   ]
  },
  {
   "cell_type": "code",
   "execution_count": null,
   "id": "bc4961a1",
   "metadata": {
    "papermill": {
     "duration": 0.142448,
     "end_time": "2021-12-01T17:09:40.939988",
     "exception": false,
     "start_time": "2021-12-01T17:09:40.797540",
     "status": "completed"
    },
    "tags": []
   },
   "outputs": [],
   "source": [
    "on_yearMonth2 = on_clean.groupby([\"YearMonth\"]).agg({\"isExistingPatient\":\"sum\",\"isNewPatient\":\"sum\"}).reset_index()\n",
    "on_yearMonth2"
   ]
  },
  {
   "cell_type": "code",
   "execution_count": null,
   "id": "2d5c576d",
   "metadata": {
    "papermill": {
     "duration": 0.145006,
     "end_time": "2021-12-01T17:09:41.208007",
     "exception": false,
     "start_time": "2021-12-01T17:09:41.063001",
     "status": "completed"
    },
    "tags": []
   },
   "outputs": [],
   "source": [
    "on_yearMonth2[\"5MAexisting\"] = on_yearMonth2[\"isExistingPatient\"].rolling(window = 5).mean()\n",
    "on_yearMonth2[\"5MAnew\"] = on_yearMonth2[\"isNewPatient\"].rolling(window = 5).mean()\n",
    "\n",
    "on_yearMonth2"
   ]
  },
  {
   "cell_type": "code",
   "execution_count": null,
   "id": "bcc7d7ad",
   "metadata": {
    "papermill": {
     "duration": 0.558787,
     "end_time": "2021-12-01T17:09:41.891732",
     "exception": false,
     "start_time": "2021-12-01T17:09:41.332945",
     "status": "completed"
    },
    "tags": []
   },
   "outputs": [],
   "source": [
    "#import matplotlib.dates as mdates\n",
    "plt.figure(figsize = (15,8))\n",
    "plt.plot(on_yearMonth2[\"YearMonth\"],on_yearMonth2[\"isExistingPatient\"],label = \"Existing Patient\")\n",
    "plt.plot(on_yearMonth2[\"YearMonth\"],on_yearMonth2[\"isNewPatient\"],label = \"New Patient\")\n",
    "\n",
    "plt.gca().xaxis.set_major_formatter(mdates.DateFormatter(\"%Y-%m\"))\n",
    "plt.gca().xaxis.set_major_locator(mdates.DayLocator(interval = 30))\n",
    "plt.xticks(rotation = 90)\n",
    "plt.legend()\n",
    "plt.show()"
   ]
  },
  {
   "cell_type": "markdown",
   "id": "4e1b9679",
   "metadata": {
    "papermill": {
     "duration": 0.126373,
     "end_time": "2021-12-01T17:09:42.147932",
     "exception": false,
     "start_time": "2021-12-01T17:09:42.021559",
     "status": "completed"
    },
    "tags": []
   },
   "source": [
    "We have used 5 month Moving Average to smoothen the data. We can see that we acqiuired a lot of new customer in December 1970. Also the number of visits of existing patients shot up in 1970."
   ]
  },
  {
   "cell_type": "code",
   "execution_count": null,
   "id": "c83c8931",
   "metadata": {
    "papermill": {
     "duration": 0.145664,
     "end_time": "2021-12-01T17:09:42.421677",
     "exception": false,
     "start_time": "2021-12-01T17:09:42.276013",
     "status": "completed"
    },
    "tags": []
   },
   "outputs": [],
   "source": [
    "conditions.head()"
   ]
  },
  {
   "cell_type": "code",
   "execution_count": null,
   "id": "986c666e",
   "metadata": {
    "papermill": {
     "duration": 0.15073,
     "end_time": "2021-12-01T17:09:42.702814",
     "exception": false,
     "start_time": "2021-12-01T17:09:42.552084",
     "status": "completed"
    },
    "tags": []
   },
   "outputs": [],
   "source": [
    "encounters.head()"
   ]
  },
  {
   "cell_type": "code",
   "execution_count": null,
   "id": "a55074b8",
   "metadata": {
    "papermill": {
     "duration": 0.185591,
     "end_time": "2021-12-01T17:09:43.014992",
     "exception": false,
     "start_time": "2021-12-01T17:09:42.829401",
     "status": "completed"
    },
    "tags": []
   },
   "outputs": [],
   "source": [
    "enc_con = encounters.merge(conditions[[\"ENCOUNTER\",\"DESCRIPTION\"]],how = \"inner\",left_on = \"Id\",right_on = \"ENCOUNTER\")\n",
    "enc_con.head()"
   ]
  },
  {
   "cell_type": "code",
   "execution_count": null,
   "id": "269d1edd",
   "metadata": {
    "papermill": {
     "duration": 0.151238,
     "end_time": "2021-12-01T17:09:43.294045",
     "exception": false,
     "start_time": "2021-12-01T17:09:43.142807",
     "status": "completed"
    },
    "tags": []
   },
   "outputs": [],
   "source": [
    "enc_con_grouped = enc_con.groupby([\"DESCRIPTION_y\"]).agg({\"START\":\"mean\",\"PATIENT\":\"count\",\"TOTAL_CLAIM_COST\":\"mean\"}).sort_values(by = [\"TOTAL_CLAIM_COST\"],ascending = False).reset_index()\n",
    "enc_con_grouped"
   ]
  },
  {
   "cell_type": "code",
   "execution_count": null,
   "id": "f680702a",
   "metadata": {
    "papermill": {
     "duration": 0.125988,
     "end_time": "2021-12-01T17:09:43.547415",
     "exception": false,
     "start_time": "2021-12-01T17:09:43.421427",
     "status": "completed"
    },
    "tags": []
   },
   "outputs": [],
   "source": []
  },
  {
   "cell_type": "code",
   "execution_count": null,
   "id": "25ed2ade",
   "metadata": {
    "papermill": {
     "duration": 0.126004,
     "end_time": "2021-12-01T17:09:43.800325",
     "exception": false,
     "start_time": "2021-12-01T17:09:43.674321",
     "status": "completed"
    },
    "tags": []
   },
   "outputs": [],
   "source": []
  },
  {
   "cell_type": "markdown",
   "id": "b83217b7",
   "metadata": {
    "papermill": {
     "duration": 0.127403,
     "end_time": "2021-12-01T17:09:44.054554",
     "exception": false,
     "start_time": "2021-12-01T17:09:43.927151",
     "status": "completed"
    },
    "tags": []
   },
   "source": []
  },
  {
   "cell_type": "markdown",
   "id": "05937485",
   "metadata": {
    "papermill": {
     "duration": 0.126752,
     "end_time": "2021-12-01T17:09:44.309290",
     "exception": false,
     "start_time": "2021-12-01T17:09:44.182538",
     "status": "completed"
    },
    "tags": []
   },
   "source": [
    "Lets see the number of encounters in Encounters table and Condition table"
   ]
  },
  {
   "cell_type": "code",
   "execution_count": null,
   "id": "90d5440a",
   "metadata": {
    "papermill": {
     "duration": 0.157331,
     "end_time": "2021-12-01T17:09:44.593920",
     "exception": false,
     "start_time": "2021-12-01T17:09:44.436589",
     "status": "completed"
    },
    "tags": []
   },
   "outputs": [],
   "source": [
    "encounters.Id.nunique(),conditions.ENCOUNTER.nunique"
   ]
  },
  {
   "cell_type": "markdown",
   "id": "5cfd291b",
   "metadata": {
    "papermill": {
     "duration": 0.12765,
     "end_time": "2021-12-01T17:09:44.851438",
     "exception": false,
     "start_time": "2021-12-01T17:09:44.723788",
     "status": "completed"
    },
    "tags": []
   },
   "source": [
    "There aee 53k encounters in encounter table and in conditions table only 7.6k. That means for majority of the encounters condition has not been maintained in the data records."
   ]
  },
  {
   "cell_type": "code",
   "execution_count": null,
   "id": "a590b949",
   "metadata": {
    "papermill": {
     "duration": 0.50721,
     "end_time": "2021-12-01T17:09:45.486381",
     "exception": false,
     "start_time": "2021-12-01T17:09:44.979171",
     "status": "completed"
    },
    "tags": []
   },
   "outputs": [],
   "source": [
    "plt.figure(figsize = (15,8))\n",
    "plt.scatter(enc_con_grouped[\"START\"],enc_con_grouped[\"TOTAL_CLAIM_COST\"],s = enc_con_grouped[\"PATIENT\"])\n",
    "plt.xlabel(\"Year\")\n",
    "plt.ylabel(\"Cost\")\n",
    "\n",
    "plt.show()"
   ]
  },
  {
   "cell_type": "markdown",
   "id": "b7edfa57",
   "metadata": {
    "papermill": {
     "duration": 0.141357,
     "end_time": "2021-12-01T17:09:45.757532",
     "exception": false,
     "start_time": "2021-12-01T17:09:45.616175",
     "status": "completed"
    },
    "tags": []
   },
   "source": [
    "looks like the data is highly skewed in the conditions table. Costs of most conditions seems to be around 130. Other interpretation tht can be drawn from this is that they dont have a conditions data homogenous throughout the timeline. Some conditions have instances well back in 1920 and later they discontinued collecting data for that condition. At the same time for some conditions they started collecting data only in the recent days."
   ]
  },
  {
   "cell_type": "code",
   "execution_count": null,
   "id": "26b2d04f",
   "metadata": {
    "papermill": {
     "duration": 0.147495,
     "end_time": "2021-12-01T17:09:46.039363",
     "exception": false,
     "start_time": "2021-12-01T17:09:45.891868",
     "status": "completed"
    },
    "tags": []
   },
   "outputs": [],
   "source": [
    "encounters.PATIENT.nunique(),conditions.PATIENT.nunique(),len(conditions)"
   ]
  },
  {
   "cell_type": "markdown",
   "id": "4a2556b1",
   "metadata": {
    "papermill": {
     "duration": 0.12991,
     "end_time": "2021-12-01T17:09:46.298814",
     "exception": false,
     "start_time": "2021-12-01T17:09:46.168904",
     "status": "completed"
    },
    "tags": []
   },
   "source": [
    "Above we have calculated"
   ]
  },
  {
   "cell_type": "code",
   "execution_count": null,
   "id": "435ad2ce",
   "metadata": {
    "papermill": {
     "duration": 0.141599,
     "end_time": "2021-12-01T17:09:46.569514",
     "exception": false,
     "start_time": "2021-12-01T17:09:46.427915",
     "status": "completed"
    },
    "tags": []
   },
   "outputs": [],
   "source": [
    "encounters.REASONDESCRIPTION.nunique()"
   ]
  },
  {
   "cell_type": "code",
   "execution_count": null,
   "id": "f2fb913c",
   "metadata": {
    "papermill": {
     "duration": 0.170774,
     "end_time": "2021-12-01T17:09:46.869103",
     "exception": false,
     "start_time": "2021-12-01T17:09:46.698329",
     "status": "completed"
    },
    "tags": []
   },
   "outputs": [],
   "source": [
    "enc_con_grouped1 = enc_con.groupby([\"REASONDESCRIPTION\"]).agg({\"START\":\"mean\",\"PATIENT\":\"nunique\",\"TOTAL_CLAIM_COST\":\"mean\",\"Id\":\"count\"}).sort_values(by = [\"TOTAL_CLAIM_COST\"],ascending = False).reset_index()\n",
    "enc_con_grouped1[\"Revenue\"] = enc_con_grouped1[\"TOTAL_CLAIM_COST\"]* enc_con_grouped1[\"Id\"]\n",
    "enc_con_grouped1.sort_values(by = [\"Revenue\"],ascending = False,inplace = True)\n",
    "enc_con_grouped1"
   ]
  },
  {
   "cell_type": "code",
   "execution_count": null,
   "id": "d86720be",
   "metadata": {
    "papermill": {
     "duration": 0.558584,
     "end_time": "2021-12-01T17:09:47.559556",
     "exception": false,
     "start_time": "2021-12-01T17:09:47.000972",
     "status": "completed"
    },
    "tags": []
   },
   "outputs": [],
   "source": [
    "plt.figure(figsize = (15,7))\n",
    "plt.style.use(\"seaborn\")\n",
    "plt.scatter(enc_con_grouped1[\"START\"],enc_con_grouped1[\"Revenue\"],c = enc_con_grouped1[\"Id\"],cmap = \"coolwarm\")\n",
    "plt.colorbar().set_label(\"No of Encounters\")\n",
    "plt.xlabel(\"Time\")\n",
    "plt.ylabel(\"Revenue\")\n",
    "for i in range(10):\n",
    "    plt.annotate(enc_con_grouped1.REASONDESCRIPTION.iloc[i],(enc_con_grouped1[\"START\"].iloc[i],enc_con_grouped1[\"Revenue\"].iloc[i]))\n",
    "plt.show()"
   ]
  },
  {
   "cell_type": "markdown",
   "id": "28929b00",
   "metadata": {
    "papermill": {
     "duration": 0.134044,
     "end_time": "2021-12-01T17:09:47.829488",
     "exception": false,
     "start_time": "2021-12-01T17:09:47.695444",
     "status": "completed"
    },
    "tags": []
   },
   "source": [
    "From the above graph Viral Sinusitus is the condition with most revenue and most number of encounters. Also we are encountering the patients with this condition very recently as the average of encounters date is recent. This is followed by Normal Pregnancy. Looking at the broader picture top 4 condition contributes significatly high to the revenue."
   ]
  },
  {
   "cell_type": "code",
   "execution_count": null,
   "id": "4e704a5c",
   "metadata": {
    "papermill": {
     "duration": 0.137189,
     "end_time": "2021-12-01T17:09:48.104036",
     "exception": false,
     "start_time": "2021-12-01T17:09:47.966847",
     "status": "completed"
    },
    "tags": []
   },
   "outputs": [],
   "source": []
  }
 ],
 "metadata": {
  "kernelspec": {
   "display_name": "Python 3 (ipykernel)",
   "language": "python",
   "name": "python3"
  },
  "language_info": {
   "codemirror_mode": {
    "name": "ipython",
    "version": 3
   },
   "file_extension": ".py",
   "mimetype": "text/x-python",
   "name": "python",
   "nbconvert_exporter": "python",
   "pygments_lexer": "ipython3",
   "version": "3.11.6"
  },
  "papermill": {
   "default_parameters": {},
   "duration": 45.830315,
   "end_time": "2021-12-01T17:09:49.152700",
   "environment_variables": {},
   "exception": null,
   "input_path": "__notebook__.ipynb",
   "output_path": "__notebook__.ipynb",
   "parameters": {},
   "start_time": "2021-12-01T17:09:03.322385",
   "version": "2.3.3"
  }
 },
 "nbformat": 4,
 "nbformat_minor": 5
}
